{
 "cells": [
  {
   "cell_type": "markdown",
   "id": "7f597508",
   "metadata": {},
   "source": [
    "# CodSoft Task 3 Churn Prediction"
   ]
  },
  {
   "cell_type": "code",
   "execution_count": 1,
   "id": "ab760277",
   "metadata": {},
   "outputs": [],
   "source": [
    "import pandas as pd\n",
    "import matplotlib.pyplot as plt\n",
    "import keras\n",
    "from keras.models import Sequential\n",
    "from keras.layers import Dense"
   ]
  },
  {
   "cell_type": "code",
   "execution_count": 2,
   "id": "8fa4c326",
   "metadata": {},
   "outputs": [
    {
     "data": {
      "text/html": [
       "<div>\n",
       "<style scoped>\n",
       "    .dataframe tbody tr th:only-of-type {\n",
       "        vertical-align: middle;\n",
       "    }\n",
       "\n",
       "    .dataframe tbody tr th {\n",
       "        vertical-align: top;\n",
       "    }\n",
       "\n",
       "    .dataframe thead th {\n",
       "        text-align: right;\n",
       "    }\n",
       "</style>\n",
       "<table border=\"1\" class=\"dataframe\">\n",
       "  <thead>\n",
       "    <tr style=\"text-align: right;\">\n",
       "      <th></th>\n",
       "      <th>RowNumber</th>\n",
       "      <th>CustomerId</th>\n",
       "      <th>Surname</th>\n",
       "      <th>CreditScore</th>\n",
       "      <th>Geography</th>\n",
       "      <th>Gender</th>\n",
       "      <th>Age</th>\n",
       "      <th>Tenure</th>\n",
       "      <th>Balance</th>\n",
       "      <th>NumOfProducts</th>\n",
       "      <th>HasCrCard</th>\n",
       "      <th>IsActiveMember</th>\n",
       "      <th>EstimatedSalary</th>\n",
       "      <th>Exited</th>\n",
       "    </tr>\n",
       "  </thead>\n",
       "  <tbody>\n",
       "    <tr>\n",
       "      <th>0</th>\n",
       "      <td>1</td>\n",
       "      <td>15634602</td>\n",
       "      <td>Hargrave</td>\n",
       "      <td>619</td>\n",
       "      <td>France</td>\n",
       "      <td>Female</td>\n",
       "      <td>42</td>\n",
       "      <td>2</td>\n",
       "      <td>0.00</td>\n",
       "      <td>1</td>\n",
       "      <td>1</td>\n",
       "      <td>1</td>\n",
       "      <td>101348.88</td>\n",
       "      <td>1</td>\n",
       "    </tr>\n",
       "    <tr>\n",
       "      <th>1</th>\n",
       "      <td>2</td>\n",
       "      <td>15647311</td>\n",
       "      <td>Hill</td>\n",
       "      <td>608</td>\n",
       "      <td>Spain</td>\n",
       "      <td>Female</td>\n",
       "      <td>41</td>\n",
       "      <td>1</td>\n",
       "      <td>83807.86</td>\n",
       "      <td>1</td>\n",
       "      <td>0</td>\n",
       "      <td>1</td>\n",
       "      <td>112542.58</td>\n",
       "      <td>0</td>\n",
       "    </tr>\n",
       "    <tr>\n",
       "      <th>2</th>\n",
       "      <td>3</td>\n",
       "      <td>15619304</td>\n",
       "      <td>Onio</td>\n",
       "      <td>502</td>\n",
       "      <td>France</td>\n",
       "      <td>Female</td>\n",
       "      <td>42</td>\n",
       "      <td>8</td>\n",
       "      <td>159660.80</td>\n",
       "      <td>3</td>\n",
       "      <td>1</td>\n",
       "      <td>0</td>\n",
       "      <td>113931.57</td>\n",
       "      <td>1</td>\n",
       "    </tr>\n",
       "    <tr>\n",
       "      <th>3</th>\n",
       "      <td>4</td>\n",
       "      <td>15701354</td>\n",
       "      <td>Boni</td>\n",
       "      <td>699</td>\n",
       "      <td>France</td>\n",
       "      <td>Female</td>\n",
       "      <td>39</td>\n",
       "      <td>1</td>\n",
       "      <td>0.00</td>\n",
       "      <td>2</td>\n",
       "      <td>0</td>\n",
       "      <td>0</td>\n",
       "      <td>93826.63</td>\n",
       "      <td>0</td>\n",
       "    </tr>\n",
       "    <tr>\n",
       "      <th>4</th>\n",
       "      <td>5</td>\n",
       "      <td>15737888</td>\n",
       "      <td>Mitchell</td>\n",
       "      <td>850</td>\n",
       "      <td>Spain</td>\n",
       "      <td>Female</td>\n",
       "      <td>43</td>\n",
       "      <td>2</td>\n",
       "      <td>125510.82</td>\n",
       "      <td>1</td>\n",
       "      <td>1</td>\n",
       "      <td>1</td>\n",
       "      <td>79084.10</td>\n",
       "      <td>0</td>\n",
       "    </tr>\n",
       "  </tbody>\n",
       "</table>\n",
       "</div>"
      ],
      "text/plain": [
       "   RowNumber  CustomerId   Surname  CreditScore Geography  Gender  Age  \\\n",
       "0          1    15634602  Hargrave          619    France  Female   42   \n",
       "1          2    15647311      Hill          608     Spain  Female   41   \n",
       "2          3    15619304      Onio          502    France  Female   42   \n",
       "3          4    15701354      Boni          699    France  Female   39   \n",
       "4          5    15737888  Mitchell          850     Spain  Female   43   \n",
       "\n",
       "   Tenure    Balance  NumOfProducts  HasCrCard  IsActiveMember  \\\n",
       "0       2       0.00              1          1               1   \n",
       "1       1   83807.86              1          0               1   \n",
       "2       8  159660.80              3          1               0   \n",
       "3       1       0.00              2          0               0   \n",
       "4       2  125510.82              1          1               1   \n",
       "\n",
       "   EstimatedSalary  Exited  \n",
       "0        101348.88       1  \n",
       "1        112542.58       0  \n",
       "2        113931.57       1  \n",
       "3         93826.63       0  \n",
       "4         79084.10       0  "
      ]
     },
     "execution_count": 2,
     "metadata": {},
     "output_type": "execute_result"
    }
   ],
   "source": [
    "data=pd.read_csv(r'C:\\Users\\ok\\Desktop\\New folder\\Churn_Modelling.csv')\n",
    "data.head()"
   ]
  },
  {
   "cell_type": "code",
   "execution_count": 3,
   "id": "09b0616d",
   "metadata": {},
   "outputs": [
    {
     "data": {
      "text/plain": [
       "Index(['RowNumber', 'CustomerId', 'Surname', 'CreditScore', 'Geography',\n",
       "       'Gender', 'Age', 'Tenure', 'Balance', 'NumOfProducts', 'HasCrCard',\n",
       "       'IsActiveMember', 'EstimatedSalary', 'Exited'],\n",
       "      dtype='object')"
      ]
     },
     "execution_count": 3,
     "metadata": {},
     "output_type": "execute_result"
    }
   ],
   "source": [
    "data.columns"
   ]
  },
  {
   "cell_type": "code",
   "execution_count": 4,
   "id": "95c23beb",
   "metadata": {},
   "outputs": [],
   "source": [
    "#removing the unnecessary data\n",
    "data.drop(columns=['RowNumber', 'CustomerId', 'Surname'], inplace=True)"
   ]
  },
  {
   "cell_type": "code",
   "execution_count": 5,
   "id": "9ddb5282",
   "metadata": {},
   "outputs": [
    {
     "data": {
      "text/html": [
       "<div>\n",
       "<style scoped>\n",
       "    .dataframe tbody tr th:only-of-type {\n",
       "        vertical-align: middle;\n",
       "    }\n",
       "\n",
       "    .dataframe tbody tr th {\n",
       "        vertical-align: top;\n",
       "    }\n",
       "\n",
       "    .dataframe thead th {\n",
       "        text-align: right;\n",
       "    }\n",
       "</style>\n",
       "<table border=\"1\" class=\"dataframe\">\n",
       "  <thead>\n",
       "    <tr style=\"text-align: right;\">\n",
       "      <th></th>\n",
       "      <th>CreditScore</th>\n",
       "      <th>Geography</th>\n",
       "      <th>Gender</th>\n",
       "      <th>Age</th>\n",
       "      <th>Tenure</th>\n",
       "      <th>Balance</th>\n",
       "      <th>NumOfProducts</th>\n",
       "      <th>HasCrCard</th>\n",
       "      <th>IsActiveMember</th>\n",
       "      <th>EstimatedSalary</th>\n",
       "      <th>Exited</th>\n",
       "    </tr>\n",
       "  </thead>\n",
       "  <tbody>\n",
       "    <tr>\n",
       "      <th>0</th>\n",
       "      <td>619</td>\n",
       "      <td>France</td>\n",
       "      <td>Female</td>\n",
       "      <td>42</td>\n",
       "      <td>2</td>\n",
       "      <td>0.00</td>\n",
       "      <td>1</td>\n",
       "      <td>1</td>\n",
       "      <td>1</td>\n",
       "      <td>101348.88</td>\n",
       "      <td>1</td>\n",
       "    </tr>\n",
       "    <tr>\n",
       "      <th>1</th>\n",
       "      <td>608</td>\n",
       "      <td>Spain</td>\n",
       "      <td>Female</td>\n",
       "      <td>41</td>\n",
       "      <td>1</td>\n",
       "      <td>83807.86</td>\n",
       "      <td>1</td>\n",
       "      <td>0</td>\n",
       "      <td>1</td>\n",
       "      <td>112542.58</td>\n",
       "      <td>0</td>\n",
       "    </tr>\n",
       "    <tr>\n",
       "      <th>2</th>\n",
       "      <td>502</td>\n",
       "      <td>France</td>\n",
       "      <td>Female</td>\n",
       "      <td>42</td>\n",
       "      <td>8</td>\n",
       "      <td>159660.80</td>\n",
       "      <td>3</td>\n",
       "      <td>1</td>\n",
       "      <td>0</td>\n",
       "      <td>113931.57</td>\n",
       "      <td>1</td>\n",
       "    </tr>\n",
       "    <tr>\n",
       "      <th>3</th>\n",
       "      <td>699</td>\n",
       "      <td>France</td>\n",
       "      <td>Female</td>\n",
       "      <td>39</td>\n",
       "      <td>1</td>\n",
       "      <td>0.00</td>\n",
       "      <td>2</td>\n",
       "      <td>0</td>\n",
       "      <td>0</td>\n",
       "      <td>93826.63</td>\n",
       "      <td>0</td>\n",
       "    </tr>\n",
       "    <tr>\n",
       "      <th>4</th>\n",
       "      <td>850</td>\n",
       "      <td>Spain</td>\n",
       "      <td>Female</td>\n",
       "      <td>43</td>\n",
       "      <td>2</td>\n",
       "      <td>125510.82</td>\n",
       "      <td>1</td>\n",
       "      <td>1</td>\n",
       "      <td>1</td>\n",
       "      <td>79084.10</td>\n",
       "      <td>0</td>\n",
       "    </tr>\n",
       "  </tbody>\n",
       "</table>\n",
       "</div>"
      ],
      "text/plain": [
       "   CreditScore Geography  Gender  Age  Tenure    Balance  NumOfProducts  \\\n",
       "0          619    France  Female   42       2       0.00              1   \n",
       "1          608     Spain  Female   41       1   83807.86              1   \n",
       "2          502    France  Female   42       8  159660.80              3   \n",
       "3          699    France  Female   39       1       0.00              2   \n",
       "4          850     Spain  Female   43       2  125510.82              1   \n",
       "\n",
       "   HasCrCard  IsActiveMember  EstimatedSalary  Exited  \n",
       "0          1               1        101348.88       1  \n",
       "1          0               1        112542.58       0  \n",
       "2          1               0        113931.57       1  \n",
       "3          0               0         93826.63       0  \n",
       "4          1               1         79084.10       0  "
      ]
     },
     "execution_count": 5,
     "metadata": {},
     "output_type": "execute_result"
    }
   ],
   "source": [
    "data.head()"
   ]
  },
  {
   "cell_type": "code",
   "execution_count": 6,
   "id": "e6c45632",
   "metadata": {},
   "outputs": [
    {
     "data": {
      "text/plain": [
       "CreditScore        0\n",
       "Geography          0\n",
       "Gender             0\n",
       "Age                0\n",
       "Tenure             0\n",
       "Balance            0\n",
       "NumOfProducts      0\n",
       "HasCrCard          0\n",
       "IsActiveMember     0\n",
       "EstimatedSalary    0\n",
       "Exited             0\n",
       "dtype: int64"
      ]
     },
     "execution_count": 6,
     "metadata": {},
     "output_type": "execute_result"
    }
   ],
   "source": [
    "data.isnull().sum()"
   ]
  },
  {
   "cell_type": "code",
   "execution_count": 7,
   "id": "fd6f0bf9",
   "metadata": {},
   "outputs": [
    {
     "name": "stdout",
     "output_type": "stream",
     "text": [
      "<class 'pandas.core.frame.DataFrame'>\n",
      "RangeIndex: 10000 entries, 0 to 9999\n",
      "Data columns (total 11 columns):\n",
      " #   Column           Non-Null Count  Dtype  \n",
      "---  ------           --------------  -----  \n",
      " 0   CreditScore      10000 non-null  int64  \n",
      " 1   Geography        10000 non-null  object \n",
      " 2   Gender           10000 non-null  object \n",
      " 3   Age              10000 non-null  int64  \n",
      " 4   Tenure           10000 non-null  int64  \n",
      " 5   Balance          10000 non-null  float64\n",
      " 6   NumOfProducts    10000 non-null  int64  \n",
      " 7   HasCrCard        10000 non-null  int64  \n",
      " 8   IsActiveMember   10000 non-null  int64  \n",
      " 9   EstimatedSalary  10000 non-null  float64\n",
      " 10  Exited           10000 non-null  int64  \n",
      "dtypes: float64(2), int64(7), object(2)\n",
      "memory usage: 859.5+ KB\n"
     ]
    }
   ],
   "source": [
    "data.info()"
   ]
  },
  {
   "cell_type": "code",
   "execution_count": 8,
   "id": "bc5bbdc0",
   "metadata": {},
   "outputs": [],
   "source": [
    "geo=data['Geography'].value_counts()"
   ]
  },
  {
   "cell_type": "code",
   "execution_count": 9,
   "id": "2985edfa",
   "metadata": {},
   "outputs": [
    {
     "data": {
      "text/plain": [
       "<function matplotlib.pyplot.show(close=None, block=None)>"
      ]
     },
     "execution_count": 9,
     "metadata": {},
     "output_type": "execute_result"
    },
    {
     "data": {
      "image/png": "[encoded data removed]",
      "text/plain": [
       "<Figure size 400x500 with 1 Axes>"
      ]
     },
     "metadata": {},
     "output_type": "display_data"
    }
   ],
   "source": [
    "plt.figure(figsize=(4,5))\n",
    "geo.plot(kind='bar')\n",
    "plt.show"
   ]
  },
  {
   "cell_type": "code",
   "execution_count": 10,
   "id": "07b7e85a",
   "metadata": {},
   "outputs": [],
   "source": [
    "#one hot encoding gender and geography column to convert it to 1 and 0s etc\n",
    "data=pd.get_dummies(data, columns=['Geography', 'Gender'], drop_first=True)"
   ]
  },
  {
   "cell_type": "code",
   "execution_count": 11,
   "id": "43a7ea82",
   "metadata": {},
   "outputs": [],
   "source": [
    "# now splitting the target and features from the data\n",
    "x=data.drop(columns=['Exited'])\n",
    "y=data['Exited']"
   ]
  },
  {
   "cell_type": "markdown",
   "id": "f0bf6276",
   "metadata": {},
   "source": [
    "### Splitting the data into train and test data using sklearn"
   ]
  },
  {
   "cell_type": "code",
   "execution_count": 12,
   "id": "0eeec37c",
   "metadata": {},
   "outputs": [],
   "source": [
    "from sklearn.model_selection import train_test_split\n",
    "x_train, x_test, y_train, y_test=train_test_split(x,y, test_size=0.25, random_state=3)"
   ]
  },
  {
   "cell_type": "code",
   "execution_count": 13,
   "id": "2e3f1a12",
   "metadata": {},
   "outputs": [],
   "source": [
    "from sklearn.preprocessing import StandardScaler\n",
    "feaut=StandardScaler()\n",
    "x_train=feaut.fit_transform(x_train)\n",
    "x_test=feaut.transform(x_test)"
   ]
  },
  {
   "cell_type": "markdown",
   "id": "30b4ce27",
   "metadata": {},
   "source": [
    "## Building ANN Model"
   ]
  },
  {
   "cell_type": "code",
   "execution_count": 14,
   "id": "b3390001",
   "metadata": {},
   "outputs": [],
   "source": [
    "model=Sequential([\n",
    "    Dense(64, activation='relu', input_dim=11),\n",
    "    Dense(1, activation='sigmoid')\n",
    "])"
   ]
  },
  {
   "cell_type": "code",
   "execution_count": 15,
   "id": "3b45e6cd",
   "metadata": {},
   "outputs": [
    {
     "name": "stdout",
     "output_type": "stream",
     "text": [
      "Model: \"sequential\"\n",
      "_________________________________________________________________\n",
      " Layer (type)                Output Shape              Param #   \n",
      "=================================================================\n",
      " dense (Dense)               (None, 64)                768       \n",
      "                                                                 \n",
      " dense_1 (Dense)             (None, 1)                 65        \n",
      "                                                                 \n",
      "=================================================================\n",
      "Total params: 833\n",
      "Trainable params: 833\n",
      "Non-trainable params: 0\n",
      "_________________________________________________________________\n"
     ]
    }
   ],
   "source": [
    "model.summary()"
   ]
  },
  {
   "cell_type": "code",
   "execution_count": 16,
   "id": "9e69d570",
   "metadata": {},
   "outputs": [],
   "source": [
    "model.compile(optimizer='adam', loss='binary_crossentropy', metrics=['accuracy'])"
   ]
  },
  {
   "cell_type": "code",
   "execution_count": 17,
   "id": "adf70d03",
   "metadata": {},
   "outputs": [
    {
     "name": "stdout",
     "output_type": "stream",
     "text": [
      "Epoch 1/80\n",
      "188/188 [==============================] - 3s 9ms/step - loss: 0.4897 - accuracy: 0.7842 - val_loss: 0.4229 - val_accuracy: 0.8273\n",
      "Epoch 2/80\n",
      "188/188 [==============================] - 1s 7ms/step - loss: 0.4158 - accuracy: 0.8247 - val_loss: 0.4061 - val_accuracy: 0.8300\n",
      "Epoch 3/80\n",
      "188/188 [==============================] - 1s 8ms/step - loss: 0.3971 - accuracy: 0.8350 - val_loss: 0.3928 - val_accuracy: 0.8333\n",
      "Epoch 4/80\n",
      "188/188 [==============================] - 1s 7ms/step - loss: 0.3810 - accuracy: 0.8437 - val_loss: 0.3791 - val_accuracy: 0.8453\n",
      "Epoch 5/80\n",
      "188/188 [==============================] - 1s 7ms/step - loss: 0.3675 - accuracy: 0.8495 - val_loss: 0.3701 - val_accuracy: 0.8467\n",
      "Epoch 6/80\n",
      "188/188 [==============================] - 1s 7ms/step - loss: 0.3572 - accuracy: 0.8527 - val_loss: 0.3637 - val_accuracy: 0.8507\n",
      "Epoch 7/80\n",
      "188/188 [==============================] - 1s 7ms/step - loss: 0.3505 - accuracy: 0.8592 - val_loss: 0.3621 - val_accuracy: 0.8487\n",
      "Epoch 8/80\n",
      "188/188 [==============================] - 1s 7ms/step - loss: 0.3466 - accuracy: 0.8603 - val_loss: 0.3595 - val_accuracy: 0.8513\n",
      "Epoch 9/80\n",
      "188/188 [==============================] - 1s 7ms/step - loss: 0.3426 - accuracy: 0.8590 - val_loss: 0.3567 - val_accuracy: 0.8567\n",
      "Epoch 10/80\n",
      "188/188 [==============================] - 1s 7ms/step - loss: 0.3396 - accuracy: 0.8625 - val_loss: 0.3570 - val_accuracy: 0.8540\n",
      "Epoch 11/80\n",
      "188/188 [==============================] - 1s 7ms/step - loss: 0.3378 - accuracy: 0.8637 - val_loss: 0.3555 - val_accuracy: 0.8540\n",
      "Epoch 12/80\n",
      "188/188 [==============================] - 1s 7ms/step - loss: 0.3360 - accuracy: 0.8618 - val_loss: 0.3548 - val_accuracy: 0.8560\n",
      "Epoch 13/80\n",
      "188/188 [==============================] - 1s 7ms/step - loss: 0.3337 - accuracy: 0.8613 - val_loss: 0.3555 - val_accuracy: 0.8533\n",
      "Epoch 14/80\n",
      "188/188 [==============================] - 1s 7ms/step - loss: 0.3330 - accuracy: 0.8630 - val_loss: 0.3558 - val_accuracy: 0.8567\n",
      "Epoch 15/80\n",
      "188/188 [==============================] - 1s 7ms/step - loss: 0.3316 - accuracy: 0.8647 - val_loss: 0.3541 - val_accuracy: 0.8580\n",
      "Epoch 16/80\n",
      "188/188 [==============================] - 1s 7ms/step - loss: 0.3313 - accuracy: 0.8610 - val_loss: 0.3572 - val_accuracy: 0.8500\n",
      "Epoch 17/80\n",
      "188/188 [==============================] - 1s 7ms/step - loss: 0.3302 - accuracy: 0.8640 - val_loss: 0.3535 - val_accuracy: 0.8573\n",
      "Epoch 18/80\n",
      "188/188 [==============================] - 1s 6ms/step - loss: 0.3289 - accuracy: 0.8632 - val_loss: 0.3542 - val_accuracy: 0.8527\n",
      "Epoch 19/80\n",
      "188/188 [==============================] - 1s 7ms/step - loss: 0.3279 - accuracy: 0.8630 - val_loss: 0.3567 - val_accuracy: 0.8553\n",
      "Epoch 20/80\n",
      "188/188 [==============================] - 1s 6ms/step - loss: 0.3278 - accuracy: 0.8630 - val_loss: 0.3550 - val_accuracy: 0.8547\n",
      "Epoch 21/80\n",
      "188/188 [==============================] - 1s 7ms/step - loss: 0.3261 - accuracy: 0.8657 - val_loss: 0.3561 - val_accuracy: 0.8600\n",
      "Epoch 22/80\n",
      "188/188 [==============================] - 1s 6ms/step - loss: 0.3258 - accuracy: 0.8635 - val_loss: 0.3600 - val_accuracy: 0.8460\n",
      "Epoch 23/80\n",
      "188/188 [==============================] - 1s 7ms/step - loss: 0.3256 - accuracy: 0.8653 - val_loss: 0.3562 - val_accuracy: 0.8560\n",
      "Epoch 24/80\n",
      "188/188 [==============================] - 1s 7ms/step - loss: 0.3242 - accuracy: 0.8663 - val_loss: 0.3549 - val_accuracy: 0.8560\n",
      "Epoch 25/80\n",
      "188/188 [==============================] - 1s 7ms/step - loss: 0.3250 - accuracy: 0.8668 - val_loss: 0.3565 - val_accuracy: 0.8553\n",
      "Epoch 26/80\n",
      "188/188 [==============================] - 1s 7ms/step - loss: 0.3241 - accuracy: 0.8662 - val_loss: 0.3539 - val_accuracy: 0.8527\n",
      "Epoch 27/80\n",
      "188/188 [==============================] - 1s 6ms/step - loss: 0.3234 - accuracy: 0.8652 - val_loss: 0.3561 - val_accuracy: 0.8540\n",
      "Epoch 28/80\n",
      "188/188 [==============================] - 1s 7ms/step - loss: 0.3231 - accuracy: 0.8650 - val_loss: 0.3542 - val_accuracy: 0.8527\n",
      "Epoch 29/80\n",
      "188/188 [==============================] - 1s 7ms/step - loss: 0.3231 - accuracy: 0.8670 - val_loss: 0.3553 - val_accuracy: 0.8560\n",
      "Epoch 30/80\n",
      "188/188 [==============================] - 1s 6ms/step - loss: 0.3220 - accuracy: 0.8678 - val_loss: 0.3549 - val_accuracy: 0.8507\n",
      "Epoch 31/80\n",
      "188/188 [==============================] - 1s 7ms/step - loss: 0.3218 - accuracy: 0.8672 - val_loss: 0.3553 - val_accuracy: 0.8507\n",
      "Epoch 32/80\n",
      "188/188 [==============================] - 1s 7ms/step - loss: 0.3211 - accuracy: 0.8668 - val_loss: 0.3547 - val_accuracy: 0.8553\n",
      "Epoch 33/80\n",
      "188/188 [==============================] - 1s 7ms/step - loss: 0.3207 - accuracy: 0.8670 - val_loss: 0.3556 - val_accuracy: 0.8533\n",
      "Epoch 34/80\n",
      "188/188 [==============================] - 1s 7ms/step - loss: 0.3197 - accuracy: 0.8692 - val_loss: 0.3555 - val_accuracy: 0.8500\n",
      "Epoch 35/80\n",
      "188/188 [==============================] - 1s 7ms/step - loss: 0.3197 - accuracy: 0.8675 - val_loss: 0.3561 - val_accuracy: 0.8513\n",
      "Epoch 36/80\n",
      "188/188 [==============================] - 1s 6ms/step - loss: 0.3191 - accuracy: 0.8682 - val_loss: 0.3558 - val_accuracy: 0.8547\n",
      "Epoch 37/80\n",
      "188/188 [==============================] - 1s 7ms/step - loss: 0.3193 - accuracy: 0.8685 - val_loss: 0.3581 - val_accuracy: 0.8473\n",
      "Epoch 38/80\n",
      "188/188 [==============================] - 1s 7ms/step - loss: 0.3186 - accuracy: 0.8693 - val_loss: 0.3561 - val_accuracy: 0.8573\n",
      "Epoch 39/80\n",
      "188/188 [==============================] - 1s 7ms/step - loss: 0.3189 - accuracy: 0.8693 - val_loss: 0.3557 - val_accuracy: 0.8533\n",
      "Epoch 40/80\n",
      "188/188 [==============================] - 1s 6ms/step - loss: 0.3182 - accuracy: 0.8698 - val_loss: 0.3548 - val_accuracy: 0.8540\n",
      "Epoch 41/80\n",
      "188/188 [==============================] - 1s 7ms/step - loss: 0.3170 - accuracy: 0.8710 - val_loss: 0.3574 - val_accuracy: 0.8560\n",
      "Epoch 42/80\n",
      "188/188 [==============================] - 1s 7ms/step - loss: 0.3172 - accuracy: 0.8695 - val_loss: 0.3555 - val_accuracy: 0.8533\n",
      "Epoch 43/80\n",
      "188/188 [==============================] - 1s 7ms/step - loss: 0.3167 - accuracy: 0.8717 - val_loss: 0.3587 - val_accuracy: 0.8460\n",
      "Epoch 44/80\n",
      "188/188 [==============================] - 1s 7ms/step - loss: 0.3161 - accuracy: 0.8682 - val_loss: 0.3577 - val_accuracy: 0.8573\n",
      "Epoch 45/80\n",
      "188/188 [==============================] - 1s 7ms/step - loss: 0.3160 - accuracy: 0.8713 - val_loss: 0.3577 - val_accuracy: 0.8520\n",
      "Epoch 46/80\n",
      "188/188 [==============================] - 1s 7ms/step - loss: 0.3160 - accuracy: 0.8698 - val_loss: 0.3576 - val_accuracy: 0.8567\n",
      "Epoch 47/80\n",
      "188/188 [==============================] - 1s 7ms/step - loss: 0.3162 - accuracy: 0.8690 - val_loss: 0.3575 - val_accuracy: 0.8480\n",
      "Epoch 48/80\n",
      "188/188 [==============================] - 1s 7ms/step - loss: 0.3146 - accuracy: 0.8712 - val_loss: 0.3574 - val_accuracy: 0.8507\n",
      "Epoch 49/80\n",
      "188/188 [==============================] - 1s 6ms/step - loss: 0.3147 - accuracy: 0.8718 - val_loss: 0.3575 - val_accuracy: 0.8513\n",
      "Epoch 50/80\n",
      "188/188 [==============================] - 1s 7ms/step - loss: 0.3147 - accuracy: 0.8690 - val_loss: 0.3557 - val_accuracy: 0.8540\n",
      "Epoch 51/80\n",
      "188/188 [==============================] - 1s 7ms/step - loss: 0.3142 - accuracy: 0.8703 - val_loss: 0.3564 - val_accuracy: 0.8527\n",
      "Epoch 52/80\n",
      "188/188 [==============================] - 1s 7ms/step - loss: 0.3138 - accuracy: 0.8735 - val_loss: 0.3580 - val_accuracy: 0.8527\n",
      "Epoch 53/80\n",
      "188/188 [==============================] - 1s 7ms/step - loss: 0.3127 - accuracy: 0.8722 - val_loss: 0.3564 - val_accuracy: 0.8500\n",
      "Epoch 54/80\n",
      "188/188 [==============================] - 1s 7ms/step - loss: 0.3122 - accuracy: 0.8708 - val_loss: 0.3573 - val_accuracy: 0.8473\n",
      "Epoch 55/80\n",
      "188/188 [==============================] - 1s 7ms/step - loss: 0.3118 - accuracy: 0.8677 - val_loss: 0.3590 - val_accuracy: 0.8473\n",
      "Epoch 56/80\n",
      "188/188 [==============================] - 1s 7ms/step - loss: 0.3125 - accuracy: 0.8738 - val_loss: 0.3572 - val_accuracy: 0.8580\n",
      "Epoch 57/80\n",
      "188/188 [==============================] - 1s 7ms/step - loss: 0.3120 - accuracy: 0.8718 - val_loss: 0.3595 - val_accuracy: 0.8507\n",
      "Epoch 58/80\n"
     ]
    },
    {
     "name": "stdout",
     "output_type": "stream",
     "text": [
      "188/188 [==============================] - 1s 6ms/step - loss: 0.3111 - accuracy: 0.8728 - val_loss: 0.3611 - val_accuracy: 0.8433\n",
      "Epoch 59/80\n",
      "188/188 [==============================] - 1s 7ms/step - loss: 0.3109 - accuracy: 0.8718 - val_loss: 0.3569 - val_accuracy: 0.8573\n",
      "Epoch 60/80\n",
      "188/188 [==============================] - 1s 6ms/step - loss: 0.3100 - accuracy: 0.8713 - val_loss: 0.3566 - val_accuracy: 0.8547\n",
      "Epoch 61/80\n",
      "188/188 [==============================] - 1s 6ms/step - loss: 0.3104 - accuracy: 0.8712 - val_loss: 0.3570 - val_accuracy: 0.8587\n",
      "Epoch 62/80\n",
      "188/188 [==============================] - 1s 6ms/step - loss: 0.3096 - accuracy: 0.8733 - val_loss: 0.3572 - val_accuracy: 0.8567\n",
      "Epoch 63/80\n",
      "188/188 [==============================] - 1s 7ms/step - loss: 0.3096 - accuracy: 0.8718 - val_loss: 0.3587 - val_accuracy: 0.8520\n",
      "Epoch 64/80\n",
      "188/188 [==============================] - 1s 7ms/step - loss: 0.3102 - accuracy: 0.8730 - val_loss: 0.3588 - val_accuracy: 0.8500\n",
      "Epoch 65/80\n",
      "188/188 [==============================] - 1s 6ms/step - loss: 0.3078 - accuracy: 0.8732 - val_loss: 0.3590 - val_accuracy: 0.8547\n",
      "Epoch 66/80\n",
      "188/188 [==============================] - 1s 6ms/step - loss: 0.3092 - accuracy: 0.8722 - val_loss: 0.3581 - val_accuracy: 0.8573\n",
      "Epoch 67/80\n",
      "188/188 [==============================] - 1s 7ms/step - loss: 0.3091 - accuracy: 0.8738 - val_loss: 0.3570 - val_accuracy: 0.8500\n",
      "Epoch 68/80\n",
      "188/188 [==============================] - 1s 6ms/step - loss: 0.3083 - accuracy: 0.8722 - val_loss: 0.3582 - val_accuracy: 0.8560\n",
      "Epoch 69/80\n",
      "188/188 [==============================] - 1s 6ms/step - loss: 0.3085 - accuracy: 0.8730 - val_loss: 0.3568 - val_accuracy: 0.8587\n",
      "Epoch 70/80\n",
      "188/188 [==============================] - 1s 6ms/step - loss: 0.3075 - accuracy: 0.8748 - val_loss: 0.3602 - val_accuracy: 0.8527\n",
      "Epoch 71/80\n",
      "188/188 [==============================] - 1s 6ms/step - loss: 0.3083 - accuracy: 0.8740 - val_loss: 0.3583 - val_accuracy: 0.8540\n",
      "Epoch 72/80\n",
      "188/188 [==============================] - 1s 6ms/step - loss: 0.3071 - accuracy: 0.8737 - val_loss: 0.3580 - val_accuracy: 0.8540\n",
      "Epoch 73/80\n",
      "188/188 [==============================] - 2s 8ms/step - loss: 0.3061 - accuracy: 0.8745 - val_loss: 0.3616 - val_accuracy: 0.8480\n",
      "Epoch 74/80\n",
      "188/188 [==============================] - 1s 6ms/step - loss: 0.3061 - accuracy: 0.8723 - val_loss: 0.3597 - val_accuracy: 0.8527\n",
      "Epoch 75/80\n",
      "188/188 [==============================] - 1s 6ms/step - loss: 0.3059 - accuracy: 0.8752 - val_loss: 0.3579 - val_accuracy: 0.8560\n",
      "Epoch 76/80\n",
      "188/188 [==============================] - 1s 7ms/step - loss: 0.3054 - accuracy: 0.8737 - val_loss: 0.3582 - val_accuracy: 0.8573\n",
      "Epoch 77/80\n",
      "188/188 [==============================] - 1s 7ms/step - loss: 0.3052 - accuracy: 0.8743 - val_loss: 0.3604 - val_accuracy: 0.8547\n",
      "Epoch 78/80\n",
      "188/188 [==============================] - 1s 6ms/step - loss: 0.3048 - accuracy: 0.8755 - val_loss: 0.3578 - val_accuracy: 0.8553\n",
      "Epoch 79/80\n",
      "188/188 [==============================] - 1s 6ms/step - loss: 0.3049 - accuracy: 0.8757 - val_loss: 0.3583 - val_accuracy: 0.8527\n",
      "Epoch 80/80\n",
      "188/188 [==============================] - 1s 7ms/step - loss: 0.3043 - accuracy: 0.8753 - val_loss: 0.3593 - val_accuracy: 0.8527\n"
     ]
    },
    {
     "data": {
      "text/plain": [
       "<keras.callbacks.History at 0x1f43b024eb0>"
      ]
     },
     "execution_count": 17,
     "metadata": {},
     "output_type": "execute_result"
    }
   ],
   "source": [
    "model.fit(x_train, y_train, validation_split=0.2, epochs=80, verbose=1)"
   ]
  },
  {
   "cell_type": "code",
   "execution_count": 18,
   "id": "9a18fa71",
   "metadata": {},
   "outputs": [
    {
     "name": "stdout",
     "output_type": "stream",
     "text": [
      "79/79 [==============================] - 1s 4ms/step\n"
     ]
    }
   ],
   "source": [
    "y_pred=model.predict(x_test)"
   ]
  },
  {
   "cell_type": "code",
   "execution_count": 19,
   "id": "dd21c0ef",
   "metadata": {},
   "outputs": [],
   "source": [
    "y_pred=(y_pred>0.5)\n"
   ]
  },
  {
   "cell_type": "code",
   "execution_count": 20,
   "id": "7036c88a",
   "metadata": {},
   "outputs": [
    {
     "data": {
      "text/plain": [
       "array([[1901,   81],\n",
       "       [ 270,  248]], dtype=int64)"
      ]
     },
     "execution_count": 20,
     "metadata": {},
     "output_type": "execute_result"
    }
   ],
   "source": [
    "from sklearn.metrics import confusion_matrix\n",
    "conf_mat=confusion_matrix(y_test, y_pred)\n",
    "conf_mat"
   ]
  },
  {
   "cell_type": "code",
   "execution_count": 21,
   "id": "7f4e491d",
   "metadata": {},
   "outputs": [
    {
     "data": {
      "text/plain": [
       "0.8596"
      ]
     },
     "execution_count": 21,
     "metadata": {},
     "output_type": "execute_result"
    }
   ],
   "source": [
    "from sklearn.metrics import accuracy_score\n",
    "accuracy_score(y_test,y_pred)"
   ]
  }
 ],
 "metadata": {
  "kernelspec": {
   "display_name": "Python 3 (ipykernel)",
   "language": "python",
   "name": "python3"
  },
  "language_info": {
   "codemirror_mode": {
    "name": "ipython",
    "version": 3
   },
   "file_extension": ".py",
   "mimetype": "text/x-python",
   "name": "python",
   "nbconvert_exporter": "python",
   "pygments_lexer": "ipython3",
   "version": "3.10.13"
  }
 },
 "nbformat": 4,
 "nbformat_minor": 5
}
