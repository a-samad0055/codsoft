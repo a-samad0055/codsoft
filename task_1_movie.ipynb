{
 "cells": [
  {
   "cell_type": "markdown",
   "metadata": {
    "id": "LalEMwDb-q6h"
   },
   "source": [
    "# Importing Data"
   ]
  },
  {
   "cell_type": "code",
   "execution_count": 1,
   "metadata": {
    "execution": {
     "iopub.execute_input": "2021-06-19T00:57:41.407281Z",
     "iopub.status.busy": "2021-06-19T00:57:41.406958Z",
     "iopub.status.idle": "2021-06-19T00:57:43.399033Z",
     "shell.execute_reply": "2021-06-19T00:57:43.398117Z",
     "shell.execute_reply.started": "2021-06-19T00:57:41.40725Z"
    },
    "id": "zox3cDcW-q6k"
   },
   "outputs": [],
   "source": [
    "import pandas as pd\n",
    "\n",
    "train_df = pd.read_csv(r\"C:\\Users\\ok\\Desktop\\archive\\Genre Classification Dataset\\train_data.txt\", engine=\"python\", sep=\" ::: \", names=[\"id\", \"movie\", \"genre\", \"summary\"])"
   ]
  },
  {
   "cell_type": "code",
   "execution_count": 2,
   "metadata": {
    "colab": {
     "base_uri": "https://localhost:8080/",
     "height": 206
    },
    "execution": {
     "iopub.execute_input": "2021-06-19T00:57:43.659746Z",
     "iopub.status.busy": "2021-06-19T00:57:43.659456Z",
     "iopub.status.idle": "2021-06-19T00:57:43.680301Z",
     "shell.execute_reply": "2021-06-19T00:57:43.679209Z",
     "shell.execute_reply.started": "2021-06-19T00:57:43.659718Z"
    },
    "id": "qz60ZzvW-q6m",
    "outputId": "c0f6f26f-e0b5-4b3f-b06b-36959ee42788"
   },
   "outputs": [
    {
     "data": {
      "text/html": [
       "<div>\n",
       "<style scoped>\n",
       "    .dataframe tbody tr th:only-of-type {\n",
       "        vertical-align: middle;\n",
       "    }\n",
       "\n",
       "    .dataframe tbody tr th {\n",
       "        vertical-align: top;\n",
       "    }\n",
       "\n",
       "    .dataframe thead th {\n",
       "        text-align: right;\n",
       "    }\n",
       "</style>\n",
       "<table border=\"1\" class=\"dataframe\">\n",
       "  <thead>\n",
       "    <tr style=\"text-align: right;\">\n",
       "      <th></th>\n",
       "      <th>id</th>\n",
       "      <th>movie</th>\n",
       "      <th>genre</th>\n",
       "      <th>summary</th>\n",
       "    </tr>\n",
       "  </thead>\n",
       "  <tbody>\n",
       "    <tr>\n",
       "      <th>0</th>\n",
       "      <td>1</td>\n",
       "      <td>Oscar et la dame rose (2009)</td>\n",
       "      <td>drama</td>\n",
       "      <td>Listening in to a conversation between his doc...</td>\n",
       "    </tr>\n",
       "    <tr>\n",
       "      <th>1</th>\n",
       "      <td>2</td>\n",
       "      <td>Cupid (1997)</td>\n",
       "      <td>thriller</td>\n",
       "      <td>A brother and sister with a past incestuous re...</td>\n",
       "    </tr>\n",
       "    <tr>\n",
       "      <th>2</th>\n",
       "      <td>3</td>\n",
       "      <td>Young, Wild and Wonderful (1980)</td>\n",
       "      <td>adult</td>\n",
       "      <td>As the bus empties the students for their fiel...</td>\n",
       "    </tr>\n",
       "    <tr>\n",
       "      <th>3</th>\n",
       "      <td>4</td>\n",
       "      <td>The Secret Sin (1915)</td>\n",
       "      <td>drama</td>\n",
       "      <td>To help their unemployed father make ends meet...</td>\n",
       "    </tr>\n",
       "    <tr>\n",
       "      <th>4</th>\n",
       "      <td>5</td>\n",
       "      <td>The Unrecovered (2007)</td>\n",
       "      <td>drama</td>\n",
       "      <td>The film's title refers not only to the un-rec...</td>\n",
       "    </tr>\n",
       "  </tbody>\n",
       "</table>\n",
       "</div>"
      ],
      "text/plain": [
       "   id                             movie     genre  \\\n",
       "0   1      Oscar et la dame rose (2009)     drama   \n",
       "1   2                      Cupid (1997)  thriller   \n",
       "2   3  Young, Wild and Wonderful (1980)     adult   \n",
       "3   4             The Secret Sin (1915)     drama   \n",
       "4   5            The Unrecovered (2007)     drama   \n",
       "\n",
       "                                             summary  \n",
       "0  Listening in to a conversation between his doc...  \n",
       "1  A brother and sister with a past incestuous re...  \n",
       "2  As the bus empties the students for their fiel...  \n",
       "3  To help their unemployed father make ends meet...  \n",
       "4  The film's title refers not only to the un-rec...  "
      ]
     },
     "execution_count": 2,
     "metadata": {},
     "output_type": "execute_result"
    }
   ],
   "source": [
    "# Viewing training data\n",
    "train_df.head()"
   ]
  },
  {
   "cell_type": "markdown",
   "metadata": {
    "id": "kv16OOLu-q6n"
   },
   "source": [
    "# Data Manipulation"
   ]
  },
  {
   "cell_type": "markdown",
   "metadata": {
    "id": "dTu9ogYE-q6o"
   },
   "source": [
    "## Shuffling the data"
   ]
  },
  {
   "cell_type": "code",
   "execution_count": 3,
   "metadata": {
    "execution": {
     "iopub.execute_input": "2021-06-19T00:57:45.805901Z",
     "iopub.status.busy": "2021-06-19T00:57:45.805554Z",
     "iopub.status.idle": "2021-06-19T00:57:45.820167Z",
     "shell.execute_reply": "2021-06-19T00:57:45.819401Z",
     "shell.execute_reply.started": "2021-06-19T00:57:45.805869Z"
    },
    "id": "6jFtPxuA-q6o"
   },
   "outputs": [],
   "source": [
    "train_shuffled = train_df.sample(frac=1)"
   ]
  },
  {
   "cell_type": "markdown",
   "metadata": {
    "id": "VM8lJDHq-q6o"
   },
   "source": [
    "## Splitting the data"
   ]
  },
  {
   "cell_type": "markdown",
   "metadata": {
    "id": "QORbfoD8-q6o"
   },
   "source": []
  },
  {
   "cell_type": "code",
   "execution_count": 4,
   "metadata": {
    "execution": {
     "iopub.execute_input": "2021-06-19T00:57:47.039473Z",
     "iopub.status.busy": "2021-06-19T00:57:47.039157Z",
     "iopub.status.idle": "2021-06-19T00:57:47.617617Z",
     "shell.execute_reply": "2021-06-19T00:57:47.616814Z",
     "shell.execute_reply.started": "2021-06-19T00:57:47.039444Z"
    },
    "id": "_sLmvLzL-q6p"
   },
   "outputs": [],
   "source": [
    "# Split the data using train_test_split from sklearn\n",
    "from sklearn.model_selection import train_test_split\n",
    "\n",
    "X_train, X_val, y_train, y_val = train_test_split(train_shuffled[\"summary\"],\n",
    "                                                 train_shuffled[\"genre\"],\n",
    "                                                 test_size=0.1)\n",
    "#X_test, y_test = test_df[\"summary\"], test_df[\"genre\"]"
   ]
  },
  {
   "cell_type": "markdown",
   "metadata": {
    "id": "hPnmvHGy-q6p"
   },
   "source": [
    "## One-Hot Encoding (Labels)"
   ]
  },
  {
   "cell_type": "code",
   "execution_count": 5,
   "metadata": {
    "colab": {
     "base_uri": "https://localhost:8080/"
    },
    "execution": {
     "iopub.execute_input": "2021-06-19T00:57:47.837236Z",
     "iopub.status.busy": "2021-06-19T00:57:47.836961Z",
     "iopub.status.idle": "2021-06-19T00:57:47.901755Z",
     "shell.execute_reply": "2021-06-19T00:57:47.901008Z",
     "shell.execute_reply.started": "2021-06-19T00:57:47.83721Z"
    },
    "id": "RWdio-It-q6p",
    "outputId": "916441ef-86b9-4317-92ed-03182e038100"
   },
   "outputs": [
    {
     "name": "stderr",
     "output_type": "stream",
     "text": [
      "C:\\Users\\ok\\.conda\\envs\\tensorflow\\lib\\site-packages\\sklearn\\preprocessing\\_encoders.py:975: FutureWarning: `sparse` was renamed to `sparse_output` in version 1.2 and will be removed in 1.4. `sparse_output` is ignored unless you leave `sparse` to its default value.\n",
      "  warnings.warn(\n"
     ]
    }
   ],
   "source": [
    "from sklearn.preprocessing import OneHotEncoder\n",
    "\n",
    "ohe = OneHotEncoder(sparse=False)\n",
    "ohe.fit(train_shuffled[\"genre\"].to_numpy().reshape(-1,1)) # Fit the encoder to genre of training data\n",
    "\n",
    "train_ohe = ohe.transform(y_train.to_numpy().reshape(-1, 1))\n",
    "val_ohe = ohe.transform(y_val.to_numpy().reshape(-1,1))\n",
    "#test_ohe = ohe.transform(y_test.to_numpy().reshape(-1,1))"
   ]
  },
  {
   "cell_type": "markdown",
   "metadata": {
    "id": "NY_zx1Dz-q6p"
   },
   "source": [
    "## List (Summary)"
   ]
  },
  {
   "cell_type": "code",
   "execution_count": 6,
   "metadata": {
    "execution": {
     "iopub.execute_input": "2021-06-19T00:57:48.640404Z",
     "iopub.status.busy": "2021-06-19T00:57:48.640084Z",
     "iopub.status.idle": "2021-06-19T00:57:48.648934Z",
     "shell.execute_reply": "2021-06-19T00:57:48.64787Z",
     "shell.execute_reply.started": "2021-06-19T00:57:48.640375Z"
    },
    "id": "wZf2ThZl-q6q"
   },
   "outputs": [],
   "source": [
    "train_sentences = X_train.tolist()\n",
    "val_sentences = X_val.tolist()\n",
    "#test_sentences = X_test.tolist()"
   ]
  },
  {
   "cell_type": "markdown",
   "metadata": {
    "id": "oDOEARuR-q6q"
   },
   "source": [
    "# Universal Serial Encoder (Embedding Layer)"
   ]
  },
  {
   "cell_type": "code",
   "execution_count": 9,
   "metadata": {
    "execution": {
     "iopub.execute_input": "2021-06-19T00:57:49.521455Z",
     "iopub.status.busy": "2021-06-19T00:57:49.521034Z",
     "iopub.status.idle": "2021-06-19T00:58:08.143886Z",
     "shell.execute_reply": "2021-06-19T00:58:08.143024Z",
     "shell.execute_reply.started": "2021-06-19T00:57:49.521415Z"
    },
    "id": "Jwy9c7cn-q6q"
   },
   "outputs": [],
   "source": [
    "#The \"Universal Sentence Encoder\" (USE) is a model developed by Google that is\n",
    "#capable of converting text (sentences or phrases) into fixed-size vector representations, often\n",
    "#referred to as embeddings. These embeddings capture the semantic meaning of the text and can be used\n",
    "#for a variety of natural language processing (NLP) tasks, such as text similarity, text classification,\n",
    "#and sentiment analysis.\n",
    "import tensorflow_hub as hub\n",
    "embedding_layer = hub.KerasLayer(r\"C:\\Users\\ok\\Desktop\\jupyter nb files\\universal-sentence-encoder_4\",\n",
    "                                        trainable=False,\n",
    "                                        name=\"universal_sentence_encoder\")"
   ]
  },
  {
   "cell_type": "markdown",
   "metadata": {
    "id": "7XTqcUt7-q6r"
   },
   "source": [
    "# Creating Dataset"
   ]
  },
  {
   "cell_type": "code",
   "execution_count": 10,
   "metadata": {
    "colab": {
     "base_uri": "https://localhost:8080/"
    },
    "execution": {
     "iopub.execute_input": "2021-06-19T00:58:08.147353Z",
     "iopub.status.busy": "2021-06-19T00:58:08.147097Z",
     "iopub.status.idle": "2021-06-19T00:58:08.219548Z",
     "shell.execute_reply": "2021-06-19T00:58:08.218785Z",
     "shell.execute_reply.started": "2021-06-19T00:58:08.147327Z"
    },
    "id": "wa7qVUWG-q6r",
    "outputId": "90b0af27-d69b-46e5-d5d5-ef9af91a202a"
   },
   "outputs": [
    {
     "data": {
      "text/plain": [
       "(<PrefetchDataset element_spec=(TensorSpec(shape=(None,), dtype=tf.string, name=None), TensorSpec(shape=(None, 27), dtype=tf.float64, name=None))>,\n",
       " <PrefetchDataset element_spec=(TensorSpec(shape=(None,), dtype=tf.string, name=None), TensorSpec(shape=(None, 27), dtype=tf.float64, name=None))>)"
      ]
     },
     "execution_count": 10,
     "metadata": {},
     "output_type": "execute_result"
    }
   ],
   "source": [
    "from tensorflow.data import Dataset as tfd\n",
    "import tensorflow as tf\n",
    "\n",
    "AUTOTUNE = tf.data.AUTOTUNE\n",
    "\n",
    "train_dataset = tfd.from_tensor_slices((X_train, train_ohe)).batch(32).prefetch(AUTOTUNE)\n",
    "val_dataset = tfd.from_tensor_slices((X_val, val_ohe)).batch(32).prefetch(AUTOTUNE)\n",
    "#test_dataset = tfd.from_tensor_slices((X_test, test_ohe)).batch(32).prefetch(AUTOTUNE)\n",
    "\n",
    "train_dataset, val_dataset, #test_dataset"
   ]
  },
  {
   "cell_type": "markdown",
   "metadata": {
    "id": "TTwLOOoe-q6s"
   },
   "source": [
    "# Model"
   ]
  },
  {
   "cell_type": "code",
   "execution_count": 11,
   "metadata": {
    "execution": {
     "iopub.execute_input": "2021-06-19T01:01:35.261199Z",
     "iopub.status.busy": "2021-06-19T01:01:35.260879Z",
     "iopub.status.idle": "2021-06-19T01:01:35.275335Z",
     "shell.execute_reply": "2021-06-19T01:01:35.274399Z",
     "shell.execute_reply.started": "2021-06-19T01:01:35.26117Z"
    },
    "id": "FltL6eOG-q6s"
   },
   "outputs": [],
   "source": [
    "classes = len(train_shuffled[\"genre\"].value_counts())"
   ]
  },
  {
   "cell_type": "code",
   "execution_count": 12,
   "metadata": {
    "execution": {
     "iopub.execute_input": "2021-06-19T01:01:38.164396Z",
     "iopub.status.busy": "2021-06-19T01:01:38.164054Z",
     "iopub.status.idle": "2021-06-19T01:01:38.259795Z",
     "shell.execute_reply": "2021-06-19T01:01:38.259054Z",
     "shell.execute_reply.started": "2021-06-19T01:01:38.164364Z"
    },
    "id": "KfOWKvVF-q6t"
   },
   "outputs": [],
   "source": [
    "# Build the model\n",
    "from tensorflow.keras import layers\n",
    "\n",
    "inputs = layers.Input(shape=[], dtype=\"string\")\n",
    "x = embedding_layer(inputs)\n",
    "x = layers.Dense(512, activation=\"relu\")(x)\n",
    "outputs = layers.Dense(classes, activation=\"softmax\")(x)\n",
    "\n",
    "model = tf.keras.Model(inputs, outputs)"
   ]
  },
  {
   "cell_type": "code",
   "execution_count": 13,
   "metadata": {
    "execution": {
     "iopub.execute_input": "2021-06-19T01:01:39.324917Z",
     "iopub.status.busy": "2021-06-19T01:01:39.324577Z",
     "iopub.status.idle": "2021-06-19T01:01:39.336895Z",
     "shell.execute_reply": "2021-06-19T01:01:39.335806Z",
     "shell.execute_reply.started": "2021-06-19T01:01:39.324884Z"
    },
    "id": "El7bi-Lj-q6t"
   },
   "outputs": [],
   "source": [
    "# Compile the model\n",
    "model.compile(loss=\"categorical_crossentropy\",\n",
    "              optimizer=tf.keras.optimizers.Adam(),\n",
    "              metrics=[\"accuracy\"])"
   ]
  },
  {
   "cell_type": "code",
   "execution_count": 14,
   "metadata": {
    "colab": {
     "base_uri": "https://localhost:8080/"
    },
    "execution": {
     "iopub.execute_input": "2021-06-19T01:01:40.94681Z",
     "iopub.status.busy": "2021-06-19T01:01:40.946474Z",
     "iopub.status.idle": "2021-06-19T01:01:40.962025Z",
     "shell.execute_reply": "2021-06-19T01:01:40.961254Z",
     "shell.execute_reply.started": "2021-06-19T01:01:40.94678Z"
    },
    "id": "rl01RmgT-q6t",
    "outputId": "8b1f38ca-36de-446c-a80a-fcd017e46946"
   },
   "outputs": [
    {
     "name": "stdout",
     "output_type": "stream",
     "text": [
      "Model: \"model\"\n",
      "_________________________________________________________________\n",
      " Layer (type)                Output Shape              Param #   \n",
      "=================================================================\n",
      " input_1 (InputLayer)        [(None,)]                 0         \n",
      "                                                                 \n",
      " universal_sentence_encoder   (None, 512)              256797824 \n",
      " (KerasLayer)                                                    \n",
      "                                                                 \n",
      " dense (Dense)               (None, 512)               262656    \n",
      "                                                                 \n",
      " dense_1 (Dense)             (None, 27)                13851     \n",
      "                                                                 \n",
      "=================================================================\n",
      "Total params: 257,074,331\n",
      "Trainable params: 276,507\n",
      "Non-trainable params: 256,797,824\n",
      "_________________________________________________________________\n"
     ]
    }
   ],
   "source": [
    "model.summary()"
   ]
  },
  {
   "cell_type": "code",
   "execution_count": 15,
   "metadata": {
    "colab": {
     "base_uri": "https://localhost:8080/"
    },
    "execution": {
     "iopub.execute_input": "2021-06-19T01:01:43.9579Z",
     "iopub.status.busy": "2021-06-19T01:01:43.957564Z",
     "iopub.status.idle": "2021-06-19T01:02:03.854296Z",
     "shell.execute_reply": "2021-06-19T01:02:03.853486Z",
     "shell.execute_reply.started": "2021-06-19T01:01:43.957867Z"
    },
    "id": "MwvZsatJ-q6t",
    "outputId": "d2e8c98c-e59d-482a-9f2c-a10adc25b7ff"
   },
   "outputs": [
    {
     "name": "stdout",
     "output_type": "stream",
     "text": [
      "Epoch 1/10\n",
      "152/152 [==============================] - 16s 64ms/step - loss: 2.0135 - accuracy: 0.4663 - val_loss: 1.7702 - val_accuracy: 0.5092\n",
      "Epoch 2/10\n",
      "152/152 [==============================] - 6s 37ms/step - loss: 1.6172 - accuracy: 0.5275 - val_loss: 1.5350 - val_accuracy: 0.5754\n",
      "Epoch 3/10\n",
      "152/152 [==============================] - 6s 38ms/step - loss: 1.4855 - accuracy: 0.5498 - val_loss: 1.4432 - val_accuracy: 0.5974\n",
      "Epoch 4/10\n",
      "152/152 [==============================] - 6s 38ms/step - loss: 1.4288 - accuracy: 0.5639 - val_loss: 1.3842 - val_accuracy: 0.5956\n",
      "Epoch 5/10\n",
      "152/152 [==============================] - 6s 38ms/step - loss: 1.3824 - accuracy: 0.5750 - val_loss: 1.3455 - val_accuracy: 0.6250\n",
      "Epoch 6/10\n",
      "152/152 [==============================] - 6s 40ms/step - loss: 1.3117 - accuracy: 0.5907 - val_loss: 1.3421 - val_accuracy: 0.6121\n",
      "Epoch 7/10\n",
      "152/152 [==============================] - 7s 45ms/step - loss: 1.3554 - accuracy: 0.5859 - val_loss: 1.3208 - val_accuracy: 0.6048\n",
      "Epoch 8/10\n",
      "152/152 [==============================] - 6s 40ms/step - loss: 1.3568 - accuracy: 0.5757 - val_loss: 1.3135 - val_accuracy: 0.6121\n",
      "Epoch 9/10\n",
      "152/152 [==============================] - 6s 39ms/step - loss: 1.3181 - accuracy: 0.5818 - val_loss: 1.3256 - val_accuracy: 0.6195\n",
      "Epoch 10/10\n",
      "152/152 [==============================] - 7s 46ms/step - loss: 1.3140 - accuracy: 0.5880 - val_loss: 1.3121 - val_accuracy: 0.6140\n"
     ]
    }
   ],
   "source": [
    "history = model.fit(train_dataset,\n",
    "                  steps_per_epoch=int(0.1*len(train_dataset)),\n",
    "                  epochs=10,\n",
    "                  validation_data=val_dataset,\n",
    "                  validation_steps=int(0.1*len(val_dataset)))"
   ]
  }
 ],
 "metadata": {
  "accelerator": "GPU",
  "colab": {
   "gpuType": "T4",
   "provenance": [],
   "toc_visible": true
  },
  "kernelspec": {
   "display_name": "Python 3 (ipykernel)",
   "language": "python",
   "name": "python3"
  },
  "language_info": {
   "codemirror_mode": {
    "name": "ipython",
    "version": 3
   },
   "file_extension": ".py",
   "mimetype": "text/x-python",
   "name": "python",
   "nbconvert_exporter": "python",
   "pygments_lexer": "ipython3",
   "version": "3.10.13"
  }
 },
 "nbformat": 4,
 "nbformat_minor": 1
}
