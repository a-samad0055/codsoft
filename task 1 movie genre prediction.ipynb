{
 "cells": [
  {
   "cell_type": "code",
   "execution_count": null,
   "metadata": {
    "execution": {
     "iopub.execute_input": "2023-10-01T07:08:19.061303Z",
     "iopub.status.busy": "2023-10-01T07:08:19.060444Z",
     "iopub.status.idle": "2023-10-01T07:08:19.571773Z",
     "shell.execute_reply": "2023-10-01T07:08:19.570108Z",
     "shell.execute_reply.started": "2023-10-01T07:08:19.061265Z"
    },
    "id": "Kk_RmLVoUj95"
   },
   "outputs": [],
   "source": [
    "import pandas as pd\n",
    "import re\n",
    "from sklearn.feature_extraction.text import TfidfVectorizer\n",
    "from gensim.models import Word2Vec\n",
    "from sklearn.ensemble import RandomForestClassifier\n",
    "from sklearn.model_selection import train_test_split\n",
    "from sklearn.metrics import accuracy_score, precision_score, recall_score, classification_report, confusion_matrix\n",
    "from sklearn.preprocessing import LabelEncoder"
   ]
  },
  {
   "cell_type": "markdown",
   "metadata": {
    "id": "oo1V6d8vUm2S"
   },
   "source": [
    "<H1> Import data"
   ]
  },
  {
   "cell_type": "code",
   "execution_count": null,
   "metadata": {
    "execution": {
     "iopub.execute_input": "2023-10-01T07:08:19.574394Z",
     "iopub.status.busy": "2023-10-01T07:08:19.573922Z",
     "iopub.status.idle": "2023-10-01T07:08:19.955905Z",
     "shell.execute_reply": "2023-10-01T07:08:19.954748Z",
     "shell.execute_reply.started": "2023-10-01T07:08:19.574355Z"
    },
    "id": "s4CUECulUuHC",
    "outputId": "361c8e90-4db3-4126-dd33-059bc8dd0810"
   },
   "outputs": [],
   "source": [
    "train_data = pd.read_csv(r\"C:\\Users\\ok\\Desktop\\archive\\Genre Classification Dataset\\train_data.txt\", sep=':::', names=['Title', 'Genre', 'Description'], engine='python')\n",
    "train_data.tail()\n"
   ]
  },
  {
   "cell_type": "code",
   "execution_count": null,
   "metadata": {
    "execution": {
     "iopub.execute_input": "2023-10-01T07:08:19.957805Z",
     "iopub.status.busy": "2023-10-01T07:08:19.957469Z",
     "iopub.status.idle": "2023-10-01T07:08:20.176307Z",
     "shell.execute_reply": "2023-10-01T07:08:20.175518Z",
     "shell.execute_reply.started": "2023-10-01T07:08:19.957780Z"
    },
    "id": "7RBM52OAVDIa",
    "outputId": "90ad70b3-5ad8-4609-98fb-2e852f4c0f35"
   },
   "outputs": [],
   "source": [
    "test_data = pd.read_csv(r\"C:\\Users\\ok\\Desktop\\archive\\Genre Classification Dataset\\test_data.txt\", sep=':::', names=['Title', 'Description'], engine='python')\n",
    "test_data.head()\n",
    "\n"
   ]
  },
  {
   "cell_type": "code",
   "execution_count": null,
   "metadata": {
    "execution": {
     "iopub.execute_input": "2023-10-01T07:08:20.178270Z",
     "iopub.status.busy": "2023-10-01T07:08:20.177263Z",
     "iopub.status.idle": "2023-10-01T07:08:20.192857Z",
     "shell.execute_reply": "2023-10-01T07:08:20.191676Z",
     "shell.execute_reply.started": "2023-10-01T07:08:20.178224Z"
    },
    "id": "d24LK_x3VNgz"
   },
   "outputs": [],
   "source": [
    "combined_data = pd.concat([train_data, test_data], ignore_index=True)\n",
    "data = combined_data\n",
    "data.tail()"
   ]
  },
  {
   "cell_type": "markdown",
   "metadata": {
    "id": "6KCVnaLGVPwr"
   },
   "source": [
    "<h1> Data Preprocessing and Features Extraction"
   ]
  },
  {
   "cell_type": "code",
   "execution_count": null,
   "metadata": {
    "execution": {
     "iopub.execute_input": "2023-10-01T07:08:20.195467Z",
     "iopub.status.busy": "2023-10-01T07:08:20.195083Z",
     "iopub.status.idle": "2023-10-01T07:08:20.199916Z",
     "shell.execute_reply": "2023-10-01T07:08:20.198401Z",
     "shell.execute_reply.started": "2023-10-01T07:08:20.195442Z"
    }
   },
   "outputs": [],
   "source": [
    "#data = data.dropna()\n",
    "#data.tail()"
   ]
  },
  {
   "cell_type": "code",
   "execution_count": null,
   "metadata": {
    "execution": {
     "iopub.execute_input": "2023-10-01T07:08:20.201787Z",
     "iopub.status.busy": "2023-10-01T07:08:20.201055Z",
     "iopub.status.idle": "2023-10-01T07:08:58.604920Z",
     "shell.execute_reply": "2023-10-01T07:08:58.604302Z",
     "shell.execute_reply.started": "2023-10-01T07:08:20.201755Z"
    },
    "id": "McT0UrFsVO0E",
    "outputId": "3bcb536d-09d7-46e8-872e-9c693ffa4d66"
   },
   "outputs": [],
   "source": [
    "\n",
    "data = data.dropna()\n",
    "corpus = data[\"Description\"].apply(lambda x: re.findall(r'\\w+', x.lower()))\n",
    "\n",
    "word2vec_model = Word2Vec(corpus, vector_size=100, window=5, min_count=1, workers=3)\n",
    "\n",
    "def get_sentence_embedding(sentence):\n",
    "    words = re.findall(r'\\w+', sentence.lower())\n",
    "    vectors = [word2vec_model.wv[word] for word in words if word in word2vec_model.wv]\n",
    "    return sum(vectors) / len(vectors) if vectors else [0] * 100\n",
    "\n",
    "data[\"embeddings\"] = data[\"Description\"].apply(get_sentence_embedding)\n",
    "X = pd.DataFrame(data[\"embeddings\"].to_list())\n",
    "\n",
    "label_encoder = LabelEncoder()\n",
    "data[\"genre_encoded\"] = label_encoder.fit_transform(data[\"Genre\"])\n",
    "y = data[\"genre_encoded\"]"
   ]
  },
  {
   "cell_type": "code",
   "execution_count": null,
   "metadata": {
    "execution": {
     "iopub.execute_input": "2023-10-01T07:08:58.606508Z",
     "iopub.status.busy": "2023-10-01T07:08:58.605764Z",
     "iopub.status.idle": "2023-10-01T07:08:58.619575Z",
     "shell.execute_reply": "2023-10-01T07:08:58.618143Z",
     "shell.execute_reply.started": "2023-10-01T07:08:58.606483Z"
    }
   },
   "outputs": [],
   "source": [
    "data.head()"
   ]
  },
  {
   "cell_type": "code",
   "execution_count": null,
   "metadata": {},
   "outputs": [],
   "source": []
  },
  {
   "cell_type": "code",
   "execution_count": null,
   "metadata": {
    "execution": {
     "iopub.execute_input": "2023-10-01T07:08:58.621767Z",
     "iopub.status.busy": "2023-10-01T07:08:58.621154Z",
     "iopub.status.idle": "2023-10-01T07:08:58.993117Z",
     "shell.execute_reply": "2023-10-01T07:08:58.992010Z",
     "shell.execute_reply.started": "2023-10-01T07:08:58.621736Z"
    },
    "id": "gffRPd7Qd0UO",
    "outputId": "6ce25f82-ec1f-4045-e06e-86ae16dfef41"
   },
   "outputs": [],
   "source": [
    "import matplotlib.pyplot as plt\n",
    "\n",
    "plt.figure(figsize=(10, 6))\n",
    "genre_counts = data[\"Genre\"].value_counts()\n",
    "genre_counts.plot(kind=\"bar\")\n",
    "plt.xlabel(\"Genre\")\n",
    "plt.ylabel(\"Count\")\n",
    "plt.title(\"Genre Distribution\")\n",
    "plt.xticks(rotation=45, ha='right')\n",
    "plt.show()\n",
    "\n"
   ]
  },
  {
   "cell_type": "markdown",
   "metadata": {
    "id": "fjAWvK3nV4h9"
   },
   "source": [
    "<h1> Model : **Random Forest Classifier**"
   ]
  },
  {
   "cell_type": "code",
   "execution_count": null,
   "metadata": {
    "execution": {
     "iopub.execute_input": "2023-10-01T07:12:00.429728Z",
     "iopub.status.busy": "2023-10-01T07:12:00.429386Z",
     "iopub.status.idle": "2023-10-01T07:13:08.918041Z",
     "shell.execute_reply": "2023-10-01T07:13:08.916758Z",
     "shell.execute_reply.started": "2023-10-01T07:12:00.429704Z"
    },
    "id": "59KkNMk-WfRs",
    "outputId": "f454d651-d9e7-460a-82f0-dc812820c8c0"
   },
   "outputs": [],
   "source": [
    "X_train, X_test, y_train, y_test = train_test_split(X, y, test_size=0.2)\n",
    "\n",
    "\n",
    "model = RandomForestClassifier(n_estimators=100, random_state=42)\n",
    "model.fit(X_train, y_train)\n",
    "\n",
    "\n",
    "predictions = model.predict(X_test)\n",
    "precision = precision_score(y_test, predictions, average='weighted')\n",
    "recall = recall_score(y_test, predictions, average='weighted')\n",
    "accuracy = accuracy_score(y_test, predictions)\n",
    "\n",
    "print(\"Precision:\", precision)\n",
    "print(\"Recall:\", recall)\n",
    "print(\"Accuracy:\", accuracy)\n",
    "\n",
    "# Print the classification report\n",
    "print(classification_report(y_test, predictions))\n"
   ]
  },
  {
   "cell_type": "markdown",
   "metadata": {
    "id": "fgB6Hr1fWmrC"
   },
   "source": [
    "<h1>Genre Prediction"
   ]
  },
  {
   "cell_type": "code",
   "execution_count": null,
   "metadata": {
    "execution": {
     "iopub.execute_input": "2023-10-01T07:26:54.985430Z",
     "iopub.status.busy": "2023-10-01T07:26:54.983966Z",
     "iopub.status.idle": "2023-10-01T07:28:37.222891Z",
     "shell.execute_reply": "2023-10-01T07:28:37.221782Z",
     "shell.execute_reply.started": "2023-10-01T07:26:54.985380Z"
    },
    "id": "tRmqL--cWzKO",
    "outputId": "caffceab-04e2-41af-8e50-61514fbd5e29"
   },
   "outputs": [],
   "source": [
    "\n",
    "def train_model():\n",
    "    train_data = pd.read_csv(r\"C:\\Users\\ok\\Desktop\\archive\\Genre Classification Dataset\\train_data.txt\", sep=':::', names=['Title', 'Genre', 'Description'], engine='python')\n",
    "    test_data = pd.read_csv(r\"C:\\Users\\ok\\Desktop\\archive\\Genre Classification Dataset\\test_data.txt\", sep=':::', names=['Title', 'Description'], engine='python')\n",
    "    combined_data = pd.concat([train_data, test_data], ignore_index=True)\n",
    "    data = combined_data\n",
    "    \n",
    "    return model, label_encoder\n",
    "\n",
    "def predict_genre(model, label_encoder, new_descriptions):\n",
    "    new_embeddings = [get_sentence_embedding(desc) for desc in new_descriptions]\n",
    "    new_X = pd.DataFrame(new_embeddings)\n",
    "    new_predictions = model.predict(new_X)\n",
    "    predicted_genres = label_encoder.inverse_transform(new_predictions)\n",
    "\n",
    "    return predicted_genres\n",
    "\n",
    "trained_model, genre_label_encoder = train_model()\n",
    "\n",
    "new_descriptions = [\"The Continental explores the origin of the iconic hotel-for-assassins centerpiece of the John Wick universe seen through the eyes and action of a young Winston Scott\"]\n",
    "\n",
    "\n",
    "predicted_genres = predict_genre(trained_model, genre_label_encoder, new_descriptions)\n",
    "\n",
    "for desc, genre in zip(new_descriptions, predicted_genres):\n",
    "    print(f\"Description: {desc}\")\n",
    "    print(f\"Predicted Genre: {genre}\")\n",
    "    print()\n"
   ]
  },
  {
   "cell_type": "code",
   "execution_count": null,
   "metadata": {},
   "outputs": [],
   "source": []
  }
 ],
 "metadata": {
  "kernelspec": {
   "display_name": "Python 3 (ipykernel)",
   "language": "python",
   "name": "python3"
  },
  "language_info": {
   "codemirror_mode": {
    "name": "ipython",
    "version": 3
   },
   "file_extension": ".py",
   "mimetype": "text/x-python",
   "name": "python",
   "nbconvert_exporter": "python",
   "pygments_lexer": "ipython3",
   "version": "3.10.13"
  }
 },
 "nbformat": 4,
 "nbformat_minor": 4
}
